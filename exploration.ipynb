{
 "cells": [
  {
   "cell_type": "code",
   "execution_count": 1,
   "id": "8d34e6ef-1804-4f43-855e-af7d42cd405d",
   "metadata": {
    "tags": []
   },
   "outputs": [
    {
     "name": "stdout",
     "output_type": "stream",
     "text": [
      "Hello world\n"
     ]
    }
   ],
   "source": [
    "print(\"Hello world\")"
   ]
  },
  {
   "cell_type": "code",
   "execution_count": 4,
   "id": "5db14afb-98ed-42b1-b338-84a464930613",
   "metadata": {
    "tags": []
   },
   "outputs": [
    {
     "name": "stdout",
     "output_type": "stream",
     "text": [
      "Collecting package metadata (current_repodata.json): done\n",
      "Solving environment: done\n",
      "\n",
      "\n",
      "==> WARNING: A newer version of conda exists. <==\n",
      "  current version: 4.10.3\n",
      "  latest version: 24.5.0\n",
      "\n",
      "Please update conda by running\n",
      "\n",
      "    $ conda update -n base conda\n",
      "\n",
      "\n",
      "\n",
      "## Package Plan ##\n",
      "\n",
      "  environment location: /home/studio-lab-user/.conda/envs/default\n",
      "\n",
      "  added / updated specs:\n",
      "    - kaggle\n",
      "    - python-dotenv\n",
      "\n",
      "\n",
      "The following packages will be downloaded:\n",
      "\n",
      "    package                    |            build\n",
      "    ---------------------------|-----------------\n",
      "    colorama-0.4.6             |     pyhd8ed1ab_0          25 KB  conda-forge\n",
      "    python-slugify-8.0.4       |     pyhd8ed1ab_0          15 KB  conda-forge\n",
      "    text-unidecode-1.3         |     pyhd8ed1ab_1          64 KB  conda-forge\n",
      "    tqdm-4.66.4                |     pyhd8ed1ab_0          87 KB  conda-forge\n",
      "    ------------------------------------------------------------\n",
      "                                           Total:         190 KB\n",
      "\n",
      "The following NEW packages will be INSTALLED:\n",
      "\n",
      "  colorama           conda-forge/noarch::colorama-0.4.6-pyhd8ed1ab_0\n",
      "  kaggle             conda-forge/noarch::kaggle-1.6.14-pyhd8ed1ab_0\n",
      "  python-slugify     conda-forge/noarch::python-slugify-8.0.4-pyhd8ed1ab_0\n",
      "  text-unidecode     conda-forge/noarch::text-unidecode-1.3-pyhd8ed1ab_1\n",
      "  tqdm               conda-forge/noarch::tqdm-4.66.4-pyhd8ed1ab_0\n",
      "\n",
      "\n",
      "\n",
      "Downloading and Extracting Packages\n",
      "tqdm-4.66.4          | 87 KB     | ##################################### | 100% \n",
      "text-unidecode-1.3   | 64 KB     | ##################################### | 100% \n",
      "python-slugify-8.0.4 | 15 KB     | ##################################### | 100% \n",
      "colorama-0.4.6       | 25 KB     | ##################################### | 100% \n",
      "Preparing transaction: done\n",
      "Verifying transaction: done\n",
      "Executing transaction: done\n",
      "\n",
      "Note: you may need to restart the kernel to use updated packages.\n"
     ]
    }
   ],
   "source": [
    "%conda install python-dotenv kaggle"
   ]
  },
  {
   "cell_type": "code",
   "execution_count": 5,
   "id": "3dcdc67d-840a-4757-9fd5-f2001dc9923d",
   "metadata": {
    "tags": []
   },
   "outputs": [
    {
     "name": "stdout",
     "output_type": "stream",
     "text": [
      "Collecting package metadata (current_repodata.json): done\n",
      "Solving environment: done\n",
      "\n",
      "## Package Plan ##\n",
      "\n",
      "  environment location: /opt/conda\n",
      "\n",
      "  added / updated specs:\n",
      "    - conda\n",
      "\n",
      "\n",
      "The following packages will be downloaded:\n",
      "\n",
      "    package                    |            build\n",
      "    ---------------------------|-----------------\n",
      "    _openmp_mutex-4.5          |            2_gnu          23 KB  conda-forge\n",
      "    archspec-0.2.3             |     pyhd8ed1ab_0          48 KB  conda-forge\n",
      "    boltons-24.0.0             |     pyhd8ed1ab_0         291 KB  conda-forge\n",
      "    brotli-python-1.1.0        |   py39h3d6467e_1         342 KB  conda-forge\n",
      "    bzip2-1.0.8                |       h4bc722e_7         247 KB  conda-forge\n",
      "    c-ares-1.32.2              |       h4bc722e_0         176 KB  conda-forge\n",
      "    cffi-1.16.0                |   py39h7a31438_0         234 KB  conda-forge\n",
      "    charset-normalizer-3.3.2   |     pyhd8ed1ab_0          46 KB  conda-forge\n",
      "    conda-24.5.0               |   py39hf3d152e_0         927 KB  conda-forge\n",
      "    conda-libmamba-solver-24.7.0|     pyhd8ed1ab_0          40 KB  conda-forge\n",
      "    conda-package-handling-2.3.0|     pyh7900ff3_0         250 KB  conda-forge\n",
      "    conda-package-streaming-0.10.0|     pyhd8ed1ab_0          19 KB  conda-forge\n",
      "    distro-1.9.0               |     pyhd8ed1ab_0          41 KB  conda-forge\n",
      "    fmt-10.2.1                 |       h00ab1b0_0         189 KB  conda-forge\n",
      "    frozendict-2.4.4           |   py39hd3abc70_0          48 KB  conda-forge\n",
      "    h2-4.1.0                   |   py39hf3d152e_0          77 KB  conda-forge\n",
      "    hpack-4.0.0                |     pyh9f0ad1d_0          25 KB  conda-forge\n",
      "    hyperframe-6.0.1           |     pyhd8ed1ab_0          14 KB  conda-forge\n",
      "    icu-75.1                   |       he02047a_0        11.6 MB  conda-forge\n",
      "    idna-3.7                   |     pyhd8ed1ab_0          51 KB  conda-forge\n",
      "    jsonpatch-1.33             |     pyhd8ed1ab_0          17 KB  conda-forge\n",
      "    jsonpointer-3.0.0          |   py39hf3d152e_0          15 KB  conda-forge\n",
      "    keyutils-1.6.1             |       h166bdaf_0         115 KB  conda-forge\n",
      "    krb5-1.21.3                |       h659f571_0         1.3 MB  conda-forge\n",
      "    ld_impl_linux-64-2.40      |       hf3520f5_7         691 KB  conda-forge\n",
      "    libarchive-3.7.4           |       hfca40fe_0         851 KB  conda-forge\n",
      "    libcurl-8.8.0              |       hca28451_1         401 KB  conda-forge\n",
      "    libedit-3.1.20191231       |       he28a2e2_2         121 KB  conda-forge\n",
      "    libev-4.33                 |       hd590300_2         110 KB  conda-forge\n",
      "    libffi-3.4.2               |       h7f98852_5          57 KB  conda-forge\n",
      "    libgomp-14.1.0             |       h77fa898_0         446 KB  conda-forge\n",
      "    libiconv-1.17              |       hd590300_2         689 KB  conda-forge\n",
      "    libmamba-1.5.8             |       had39da4_0         1.6 MB  conda-forge\n",
      "    libmambapy-1.5.8           |   py39h10defb6_0         303 KB  conda-forge\n",
      "    libnghttp2-1.58.0          |       h47da74e_1         617 KB  conda-forge\n",
      "    libnsl-2.0.1               |       hd590300_0          33 KB  conda-forge\n",
      "    libsolv-0.7.30             |       h3509ff9_0         460 KB  conda-forge\n",
      "    libssh2-1.11.0             |       h0841786_0         265 KB  conda-forge\n",
      "    libstdcxx-ng-14.1.0        |       hc0a3c3a_0         3.7 MB  conda-forge\n",
      "    libuuid-2.38.1             |       h0b41bf4_0          33 KB  conda-forge\n",
      "    libxcrypt-4.4.36           |       hd590300_1          98 KB  conda-forge\n",
      "    libxml2-2.12.7             |       he7c6b58_4         691 KB  conda-forge\n",
      "    libzlib-1.3.1              |       h4ab18f5_1          60 KB  conda-forge\n",
      "    lz4-c-1.9.4                |       hcb278e6_0         140 KB  conda-forge\n",
      "    lzo-2.10                   |    hd590300_1001         167 KB  conda-forge\n",
      "    menuinst-2.1.1             |   py39hf3d152e_0         134 KB  conda-forge\n",
      "    ncurses-6.5                |       h59595ed_0         867 KB  conda-forge\n",
      "    packaging-24.1             |     pyhd8ed1ab_0          49 KB  conda-forge\n",
      "    platformdirs-4.2.2         |     pyhd8ed1ab_0          20 KB  conda-forge\n",
      "    pluggy-1.5.0               |     pyhd8ed1ab_0          23 KB  conda-forge\n",
      "    pybind11-abi-4             |       hd8ed1ab_3          10 KB  conda-forge\n",
      "    pycosat-0.6.6              |   py39hd1e30aa_0          83 KB  conda-forge\n",
      "    pycparser-2.22             |     pyhd8ed1ab_0         103 KB  conda-forge\n",
      "    pysocks-1.7.1              |     pyha2e5f31_6          19 KB  conda-forge\n",
      "    python-3.9.19              |h0755675_0_cpython        22.7 MB  conda-forge\n",
      "    python_abi-3.9             |           4_cp39           6 KB  conda-forge\n",
      "    readline-8.2               |       h8228510_1         275 KB  conda-forge\n",
      "    reproc-14.2.4.post0        |       hd590300_1          33 KB  conda-forge\n",
      "    reproc-cpp-14.2.4.post0    |       h59595ed_1          25 KB  conda-forge\n",
      "    requests-2.32.3            |     pyhd8ed1ab_0          57 KB  conda-forge\n",
      "    ruamel.yaml-0.18.6         |   py39hd1e30aa_0         195 KB  conda-forge\n",
      "    ruamel.yaml.clib-0.2.8     |   py39hd1e30aa_0         142 KB  conda-forge\n",
      "    setuptools-71.0.4          |     pyhd8ed1ab_0         1.4 MB  conda-forge\n",
      "    tk-8.6.13                  |noxft_h4845f30_101         3.2 MB  conda-forge\n",
      "    tzdata-2024a               |       h0c530f3_0         117 KB  conda-forge\n",
      "    urllib3-2.2.2              |     pyhd8ed1ab_1          93 KB  conda-forge\n",
      "    wheel-0.43.0               |     pyhd8ed1ab_1          57 KB  conda-forge\n",
      "    xz-5.2.6                   |       h166bdaf_0         409 KB  conda-forge\n",
      "    yaml-cpp-0.8.0             |       h59595ed_0         200 KB  conda-forge\n",
      "    zstandard-0.23.0           |   py39h623c9ba_0         396 KB  conda-forge\n",
      "    ------------------------------------------------------------\n",
      "                                           Total:        57.9 MB\n",
      "\n",
      "The following NEW packages will be INSTALLED:\n",
      "\n",
      "  archspec           conda-forge/noarch::archspec-0.2.3-pyhd8ed1ab_0\n",
      "  boltons            conda-forge/noarch::boltons-24.0.0-pyhd8ed1ab_0\n",
      "  brotli-python      conda-forge/linux-64::brotli-python-1.1.0-py39h3d6467e_1\n",
      "  bzip2              conda-forge/linux-64::bzip2-1.0.8-h4bc722e_7\n",
      "  c-ares             conda-forge/linux-64::c-ares-1.32.2-h4bc722e_0\n",
      "  conda-libmamba-so~ conda-forge/noarch::conda-libmamba-solver-24.7.0-pyhd8ed1ab_0\n",
      "  conda-package-str~ conda-forge/noarch::conda-package-streaming-0.10.0-pyhd8ed1ab_0\n",
      "  distro             conda-forge/noarch::distro-1.9.0-pyhd8ed1ab_0\n",
      "  fmt                conda-forge/linux-64::fmt-10.2.1-h00ab1b0_0\n",
      "  frozendict         conda-forge/linux-64::frozendict-2.4.4-py39hd3abc70_0\n",
      "  h2                 conda-forge/linux-64::h2-4.1.0-py39hf3d152e_0\n",
      "  hpack              conda-forge/noarch::hpack-4.0.0-pyh9f0ad1d_0\n",
      "  hyperframe         conda-forge/noarch::hyperframe-6.0.1-pyhd8ed1ab_0\n",
      "  icu                conda-forge/linux-64::icu-75.1-he02047a_0\n",
      "  jsonpatch          conda-forge/noarch::jsonpatch-1.33-pyhd8ed1ab_0\n",
      "  jsonpointer        conda-forge/linux-64::jsonpointer-3.0.0-py39hf3d152e_0\n",
      "  keyutils           conda-forge/linux-64::keyutils-1.6.1-h166bdaf_0\n",
      "  krb5               conda-forge/linux-64::krb5-1.21.3-h659f571_0\n",
      "  libarchive         conda-forge/linux-64::libarchive-3.7.4-hfca40fe_0\n",
      "  libcurl            conda-forge/linux-64::libcurl-8.8.0-hca28451_1\n",
      "  libedit            conda-forge/linux-64::libedit-3.1.20191231-he28a2e2_2\n",
      "  libev              conda-forge/linux-64::libev-4.33-hd590300_2\n",
      "  libiconv           conda-forge/linux-64::libiconv-1.17-hd590300_2\n",
      "  libmamba           conda-forge/linux-64::libmamba-1.5.8-had39da4_0\n",
      "  libmambapy         conda-forge/linux-64::libmambapy-1.5.8-py39h10defb6_0\n",
      "  libnghttp2         conda-forge/linux-64::libnghttp2-1.58.0-h47da74e_1\n",
      "  libnsl             conda-forge/linux-64::libnsl-2.0.1-hd590300_0\n",
      "  libsolv            conda-forge/linux-64::libsolv-0.7.30-h3509ff9_0\n",
      "  libsqlite          conda-forge/linux-64::libsqlite-3.46.0-hde9e2c9_0\n",
      "  libssh2            conda-forge/linux-64::libssh2-1.11.0-h0841786_0\n",
      "  libuuid            conda-forge/linux-64::libuuid-2.38.1-h0b41bf4_0\n",
      "  libxcrypt          conda-forge/linux-64::libxcrypt-4.4.36-hd590300_1\n",
      "  libxml2            conda-forge/linux-64::libxml2-2.12.7-he7c6b58_4\n",
      "  libzlib            conda-forge/linux-64::libzlib-1.3.1-h4ab18f5_1\n",
      "  lz4-c              conda-forge/linux-64::lz4-c-1.9.4-hcb278e6_0\n",
      "  lzo                conda-forge/linux-64::lzo-2.10-hd590300_1001\n",
      "  menuinst           conda-forge/linux-64::menuinst-2.1.1-py39hf3d152e_0\n",
      "  packaging          conda-forge/noarch::packaging-24.1-pyhd8ed1ab_0\n",
      "  platformdirs       conda-forge/noarch::platformdirs-4.2.2-pyhd8ed1ab_0\n",
      "  pluggy             conda-forge/noarch::pluggy-1.5.0-pyhd8ed1ab_0\n",
      "  pybind11-abi       conda-forge/noarch::pybind11-abi-4-hd8ed1ab_3\n",
      "  reproc             conda-forge/linux-64::reproc-14.2.4.post0-hd590300_1\n",
      "  reproc-cpp         conda-forge/linux-64::reproc-cpp-14.2.4.post0-h59595ed_1\n",
      "  ruamel.yaml        conda-forge/linux-64::ruamel.yaml-0.18.6-py39hd1e30aa_0\n",
      "  ruamel.yaml.clib   conda-forge/linux-64::ruamel.yaml.clib-0.2.8-py39hd1e30aa_0\n",
      "  yaml-cpp           conda-forge/linux-64::yaml-cpp-0.8.0-h59595ed_0\n",
      "  zstandard          conda-forge/linux-64::zstandard-0.23.0-py39h623c9ba_0\n",
      "  zstd               conda-forge/linux-64::zstd-1.5.6-ha6fb4c9_0\n",
      "\n",
      "The following packages will be REMOVED:\n",
      "\n",
      "  brotlipy-0.7.0-py39h3811e60_1001\n",
      "  chardet-4.0.0-py39hf3d152e_1\n",
      "  cryptography-3.4.7-py39hbca0aa6_0\n",
      "  pyopenssl-20.0.1-pyhd8ed1ab_0\n",
      "  ruamel_yaml-0.15.80-py39h3811e60_1004\n",
      "  six-1.16.0-pyh6c4a22f_0\n",
      "  sqlite-3.36.0-h9cd32fc_2\n",
      "  yaml-0.2.5-h516909a_0\n",
      "  zlib-1.2.11-h516909a_1010\n",
      "\n",
      "The following packages will be UPDATED:\n",
      "\n",
      "  _openmp_mutex                                   4.5-1_gnu --> 4.5-2_gnu\n",
      "  ca-certificates                      2021.5.30-ha878542_0 --> 2024.7.4-hbcca054_0\n",
      "  certifi            conda-forge/linux-64::certifi-2021.5.~ --> conda-forge/noarch::certifi-2024.7.4-pyhd8ed1ab_0\n",
      "  cffi                                1.14.6-py39h4bc2ebd_1 --> 1.16.0-py39h7a31438_0\n",
      "  charset-normalizer                     2.0.0-pyhd8ed1ab_0 --> 3.3.2-pyhd8ed1ab_0\n",
      "  colorama                               0.4.4-pyh9f0ad1d_0 --> 0.4.6-pyhd8ed1ab_0\n",
      "  conda                               4.10.3-py39hf3d152e_2 --> 24.5.0-py39hf3d152e_0\n",
      "  conda-package-han~ conda-forge/linux-64::conda-package-h~ --> conda-forge/noarch::conda-package-handling-2.3.0-pyh7900ff3_0\n",
      "  idna                                     3.1-pyhd3deb0d_0 --> 3.7-pyhd8ed1ab_0\n",
      "  ld_impl_linux-64                        2.36.1-hea4e1c9_2 --> 2.40-hf3520f5_7\n",
      "  libffi                                   3.4.2-h9c3ff4c_4 --> 3.4.2-h7f98852_5\n",
      "  libgcc-ng                               11.2.0-h1d223b6_9 --> 14.1.0-h77fa898_0\n",
      "  libgomp                                 11.2.0-h1d223b6_9 --> 14.1.0-h77fa898_0\n",
      "  libstdcxx-ng                            11.2.0-he4da1e4_9 --> 14.1.0-hc0a3c3a_0\n",
      "  ncurses                                    6.2-h58526e2_4 --> 6.5-h59595ed_0\n",
      "  openssl                                 1.1.1l-h7f98852_0 --> 3.3.1-h4bc722e_2\n",
      "  pycosat                           0.6.3-py39h3811e60_1006 --> 0.6.6-py39hd1e30aa_0\n",
      "  pycparser                               2.20-pyh9f0ad1d_2 --> 2.22-pyhd8ed1ab_0\n",
      "  pysocks            conda-forge/linux-64::pysocks-1.7.1-p~ --> conda-forge/noarch::pysocks-1.7.1-pyha2e5f31_6\n",
      "  python                           3.9.7-hb7a2778_2_cpython --> 3.9.19-h0755675_0_cpython\n",
      "  python_abi                                     3.9-2_cp39 --> 3.9-4_cp39\n",
      "  readline                                   8.1-h46c0cb4_0 --> 8.2-h8228510_1\n",
      "  requests                              2.26.0-pyhd8ed1ab_0 --> 2.32.3-pyhd8ed1ab_0\n",
      "  setuptools         conda-forge/linux-64::setuptools-58.0~ --> conda-forge/noarch::setuptools-71.0.4-pyhd8ed1ab_0\n",
      "  tk                                      8.6.11-h27826a3_1 --> 8.6.13-noxft_h4845f30_101\n",
      "  tqdm                                  4.62.3-pyhd8ed1ab_0 --> 4.66.4-pyhd8ed1ab_0\n",
      "  tzdata                                   2021a-he74cb21_1 --> 2024a-h0c530f3_0\n",
      "  urllib3                               1.26.7-pyhd8ed1ab_0 --> 2.2.2-pyhd8ed1ab_1\n",
      "  wheel                                 0.37.0-pyhd8ed1ab_1 --> 0.43.0-pyhd8ed1ab_1\n",
      "  xz                                       5.2.5-h516909a_1 --> 5.2.6-h166bdaf_0\n",
      "\n",
      "\n",
      "\n",
      "Downloading and Extracting Packages\n",
      "jsonpointer-3.0.0    | 15 KB     | ##################################### | 100% \n",
      "menuinst-2.1.1       | 134 KB    | ##################################### | 100% \n",
      "requests-2.32.3      | 57 KB     | ##################################### | 100% \n",
      "idna-3.7             | 51 KB     | ##################################### | 100% \n",
      "conda-package-handli | 250 KB    | ##################################### | 100% \n",
      "libnghttp2-1.58.0    | 617 KB    | ##################################### | 100% \n",
      "libstdcxx-ng-14.1.0  | 3.7 MB    | ##################################### | 100% \n",
      "lzo-2.10             | 167 KB    | ##################################### | 100% \n",
      "tzdata-2024a         | 117 KB    | ##################################### | 100% \n",
      "cffi-1.16.0          | 234 KB    | ##################################### | 100% \n",
      "libnsl-2.0.1         | 33 KB     | ##################################### | 100% \n",
      "bzip2-1.0.8          | 247 KB    | ##################################### | 100% \n",
      "hyperframe-6.0.1     | 14 KB     | ##################################### | 100% \n",
      "conda-24.5.0         | 927 KB    | ##################################### | 100% \n",
      "pybind11-abi-4       | 10 KB     | ##################################### | 100% \n",
      "libgomp-14.1.0       | 446 KB    | ##################################### | 100% \n",
      "libxml2-2.12.7       | 691 KB    | ##################################### | 100% \n",
      "h2-4.1.0             | 77 KB     | ##################################### | 100% \n",
      "ld_impl_linux-64-2.4 | 691 KB    | ##################################### | 100% \n",
      "python-3.9.19        | 22.7 MB   | ##################################### | 100% \n",
      "jsonpatch-1.33       | 17 KB     | ##################################### | 100% \n",
      "zstandard-0.23.0     | 396 KB    | ##################################### | 100% \n",
      "ruamel.yaml.clib-0.2 | 142 KB    | ##################################### | 100% \n",
      "frozendict-2.4.4     | 48 KB     | ##################################### | 100% \n",
      "reproc-cpp-14.2.4.po | 25 KB     | ##################################### | 100% \n",
      "c-ares-1.32.2        | 176 KB    | ##################################### | 100% \n",
      "icu-75.1             | 11.6 MB   | ##################################### | 100% \n",
      "libsolv-0.7.30       | 460 KB    | ##################################### | 100% \n",
      "krb5-1.21.3          | 1.3 MB    | ##################################### | 100% \n",
      "distro-1.9.0         | 41 KB     | ##################################### | 100% \n",
      "pycparser-2.22       | 103 KB    | ##################################### | 100% \n",
      "libffi-3.4.2         | 57 KB     | ##################################### | 100% \n",
      "libev-4.33           | 110 KB    | ##################################### | 100% \n",
      "archspec-0.2.3       | 48 KB     | ##################################### | 100% \n",
      "ruamel.yaml-0.18.6   | 195 KB    | ##################################### | 100% \n",
      "lz4-c-1.9.4          | 140 KB    | ##################################### | 100% \n",
      "libarchive-3.7.4     | 851 KB    | ##################################### | 100% \n",
      "hpack-4.0.0          | 25 KB     | ##################################### | 100% \n",
      "platformdirs-4.2.2   | 20 KB     | ##################################### | 100% \n",
      "setuptools-71.0.4    | 1.4 MB    | ##################################### | 100% \n",
      "libmambapy-1.5.8     | 303 KB    | ##################################### | 100% \n",
      "pycosat-0.6.6        | 83 KB     | ##################################### | 100% \n",
      "readline-8.2         | 275 KB    | ##################################### | 100% \n",
      "conda-libmamba-solve | 40 KB     | ##################################### | 100% \n",
      "libxcrypt-4.4.36     | 98 KB     | ##################################### | 100% \n",
      "libmamba-1.5.8       | 1.6 MB    | ##################################### | 100% \n",
      "libedit-3.1.20191231 | 121 KB    | ##################################### | 100% \n",
      "libssh2-1.11.0       | 265 KB    | ##################################### | 100% \n",
      "reproc-14.2.4.post0  | 33 KB     | ##################################### | 100% \n",
      "conda-package-stream | 19 KB     | ##################################### | 100% \n",
      "pysocks-1.7.1        | 19 KB     | ##################################### | 100% \n",
      "xz-5.2.6             | 409 KB    | ##################################### | 100% \n",
      "libiconv-1.17        | 689 KB    | ##################################### | 100% \n",
      "yaml-cpp-0.8.0       | 200 KB    | ##################################### | 100% \n",
      "brotli-python-1.1.0  | 342 KB    | ##################################### | 100% \n",
      "libuuid-2.38.1       | 33 KB     | ##################################### | 100% \n",
      "wheel-0.43.0         | 57 KB     | ##################################### | 100% \n",
      "tk-8.6.13            | 3.2 MB    | ##################################### | 100% \n",
      "packaging-24.1       | 49 KB     | ##################################### | 100% \n",
      "ncurses-6.5          | 867 KB    | ##################################### | 100% \n",
      "libzlib-1.3.1        | 60 KB     | ##################################### | 100% \n",
      "libcurl-8.8.0        | 401 KB    | ##################################### | 100% \n",
      "_openmp_mutex-4.5    | 23 KB     | ##################################### | 100% \n",
      "fmt-10.2.1           | 189 KB    | ##################################### | 100% \n",
      "charset-normalizer-3 | 46 KB     | ##################################### | 100% \n",
      "keyutils-1.6.1       | 115 KB    | ##################################### | 100% \n",
      "boltons-24.0.0       | 291 KB    | ##################################### | 100% \n",
      "urllib3-2.2.2        | 93 KB     | ##################################### | 100% \n",
      "python_abi-3.9       | 6 KB      | ##################################### | 100% \n",
      "pluggy-1.5.0         | 23 KB     | ##################################### | 100% \n",
      "Preparing transaction: done\n",
      "Verifying transaction: done\n",
      "Executing transaction: done\n",
      "\n",
      "Note: you may need to restart the kernel to use updated packages.\n"
     ]
    }
   ],
   "source": [
    "%conda update -n base conda"
   ]
  },
  {
   "cell_type": "code",
   "execution_count": 14,
   "id": "ec7a77c3-b062-458d-97a5-dbe2654578e8",
   "metadata": {
    "tags": []
   },
   "outputs": [],
   "source": [
    "from dotenv import load_dotenv\n",
    "import os\n",
    "\n",
    "load_dotenv()\n",
    "\n",
    "username = os.getenv(\"KAGGLE_USER\")\n",
    "key = os.getenv(\"KAGGLE_KEY\")"
   ]
  },
  {
   "cell_type": "code",
   "execution_count": 15,
   "id": "f50d4538-49bd-4ee8-b12a-387f9b6d0831",
   "metadata": {
    "tags": []
   },
   "outputs": [],
   "source": [
    "creds = f'{{\"username\":\"{username}\",\"key\":\"{key}\"}}'"
   ]
  },
  {
   "cell_type": "code",
   "execution_count": 16,
   "id": "d00a440e-ecc2-4918-914e-9d13453424e3",
   "metadata": {
    "tags": []
   },
   "outputs": [],
   "source": [
    "from pathlib import Path\n",
    "\n",
    "cred_path = Path('~/.kaggle/kaggle.json').expanduser()\n",
    "if not cred_path.exists():\n",
    "    cred_path.parent.mkdir(exist_ok=True)\n",
    "    cred_path.write_text(creds)\n",
    "    cred_path.chmod(0o600)\n"
   ]
  },
  {
   "cell_type": "code",
   "execution_count": 18,
   "id": "98bf0ce5-d7ae-4a1a-9578-6536ede4d2d5",
   "metadata": {
    "tags": []
   },
   "outputs": [],
   "source": [
    "path = Path('ieee-fraud-detection')"
   ]
  },
  {
   "cell_type": "code",
   "execution_count": 20,
   "id": "6f6708c7-1f26-437b-bcb6-fe157945dce7",
   "metadata": {
    "tags": []
   },
   "outputs": [
    {
     "name": "stdout",
     "output_type": "stream",
     "text": [
      "Downloading ieee-fraud-detection.zip to /home/studio-lab-user/sagemaker-studiolab-notebooks/skin-cancer-detection\n"
     ]
    },
    {
     "name": "stderr",
     "output_type": "stream",
     "text": [
      "100%|██████████| 118M/118M [00:02<00:00, 49.8MB/s] \n"
     ]
    },
    {
     "name": "stdout",
     "output_type": "stream",
     "text": [
      "\n"
     ]
    }
   ],
   "source": [
    "if not path.exists():\n",
    "    import zipfile,kaggle\n",
    "    kaggle.api.competition_download_cli(str(path))\n",
    "    zipfile.ZipFile(f'{path}.zip').extractall(path)\n"
   ]
  },
  {
   "cell_type": "code",
   "execution_count": 21,
   "id": "727e5b0d-6939-4c68-b141-5b0445a2d6c3",
   "metadata": {
    "tags": []
   },
   "outputs": [
    {
     "ename": "ModuleNotFoundError",
     "evalue": "No module named 'pandas'",
     "output_type": "error",
     "traceback": [
      "\u001b[0;31m---------------------------------------------------------------------------\u001b[0m",
      "\u001b[0;31mModuleNotFoundError\u001b[0m                       Traceback (most recent call last)",
      "\u001b[0;32m/tmp/ipykernel_4211/2162656668.py\u001b[0m in \u001b[0;36m<cell line: 1>\u001b[0;34m()\u001b[0m\n\u001b[0;32m----> 1\u001b[0;31m \u001b[0;32mimport\u001b[0m \u001b[0mpandas\u001b[0m \u001b[0;32mas\u001b[0m \u001b[0mpd\u001b[0m\u001b[0;34m\u001b[0m\u001b[0;34m\u001b[0m\u001b[0m\n\u001b[0m\u001b[1;32m      2\u001b[0m \u001b[0;32mimport\u001b[0m \u001b[0mnumpy\u001b[0m \u001b[0;32mas\u001b[0m \u001b[0mnp\u001b[0m\u001b[0;34m\u001b[0m\u001b[0;34m\u001b[0m\u001b[0m\n",
      "\u001b[0;31mModuleNotFoundError\u001b[0m: No module named 'pandas'"
     ]
    }
   ],
   "source": [
    "import pandas as pd\n",
    "import numpy as np"
   ]
  },
  {
   "cell_type": "code",
   "execution_count": 22,
   "id": "aaecc70b-5a19-46c9-882b-6e5ea651b7d7",
   "metadata": {
    "tags": []
   },
   "outputs": [
    {
     "name": "stdout",
     "output_type": "stream",
     "text": [
      "Retrieving notices: ...working... done\n",
      "Channels:\n",
      " - conda-forge\n",
      "Platform: linux-64\n",
      "Collecting package metadata (repodata.json): done\n",
      "Solving environment: done\n",
      "\n",
      "## Package Plan ##\n",
      "\n",
      "  environment location: /home/studio-lab-user/.conda/envs/default\n",
      "\n",
      "  added / updated specs:\n",
      "    - pandas\n",
      "\n",
      "\n",
      "The following packages will be downloaded:\n",
      "\n",
      "    package                    |            build\n",
      "    ---------------------------|-----------------\n",
      "    pandas-2.2.2               |   py39hfc16268_1        12.3 MB  conda-forge\n",
      "    python-tzdata-2024.1       |     pyhd8ed1ab_0         141 KB  conda-forge\n",
      "    ------------------------------------------------------------\n",
      "                                           Total:        12.4 MB\n",
      "\n",
      "The following NEW packages will be INSTALLED:\n",
      "\n",
      "  pandas             conda-forge/linux-64::pandas-2.2.2-py39hfc16268_1 \n",
      "  python-tzdata      conda-forge/noarch::python-tzdata-2024.1-pyhd8ed1ab_0 \n",
      "\n",
      "\n",
      "\n",
      "Downloading and Extracting Packages:\n",
      "pandas-2.2.2         | 12.3 MB   |                                       |   0% \n",
      "python-tzdata-2024.1 | 141 KB    |                                       |   0% \u001b[A\n",
      "pandas-2.2.2         | 12.3 MB   | ##################5                   |  50% \u001b[A\n",
      "                                                                                \u001b[A\n",
      "                                                                                \u001b[A\n",
      "Preparing transaction: done\n",
      "Verifying transaction: done\n",
      "Executing transaction: done\n",
      "\n",
      "Note: you may need to restart the kernel to use updated packages.\n"
     ]
    }
   ],
   "source": [
    "%conda install pandas"
   ]
  },
  {
   "cell_type": "code",
   "execution_count": 25,
   "id": "7a35c6c7-0d73-4203-b9ee-ba8494df1aee",
   "metadata": {
    "tags": []
   },
   "outputs": [],
   "source": [
    "import numpy as np\n",
    "import pandas as pd"
   ]
  },
  {
   "cell_type": "code",
   "execution_count": null,
   "id": "35b1df3a-23cd-4d44-9bde-b8f9ce8201e5",
   "metadata": {},
   "outputs": [],
   "source": []
  }
 ],
 "metadata": {
  "kernelspec": {
   "display_name": ".conda-default:Python",
   "language": "python",
   "name": "conda-env-.conda-default-py"
  },
  "language_info": {
   "codemirror_mode": {
    "name": "ipython",
    "version": 3
   },
   "file_extension": ".py",
   "mimetype": "text/x-python",
   "name": "python",
   "nbconvert_exporter": "python",
   "pygments_lexer": "ipython3",
   "version": "3.9.19"
  }
 },
 "nbformat": 4,
 "nbformat_minor": 5
}
